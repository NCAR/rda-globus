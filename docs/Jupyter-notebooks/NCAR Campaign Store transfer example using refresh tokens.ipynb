{
 "cells": [
  {
   "cell_type": "markdown",
   "metadata": {},
   "source": [
    "### The following code uses the Globus Python SDK to submit a data transfer from the NCAR GLADE endpoint to the NCAR Campaign Storage endpoint.  The client app is instantiated using refresh tokens that have already been created and stored in a secure file."
   ]
  },
  {
   "cell_type": "markdown",
   "metadata": {},
   "source": [
    "For more information, see the tutorial provided on the Globus Python SDK documentation pages at https://globus-sdk-python.readthedocs.io/en/stable/tutorial/"
   ]
  },
  {
   "cell_type": "code",
   "execution_count": null,
   "metadata": {},
   "outputs": [],
   "source": [
    "from globus_sdk import *\n",
    "import json"
   ]
  },
  {
   "cell_type": "markdown",
   "metadata": {},
   "source": [
    "### Read in refresh tokens from secure file"
   ]
  },
  {
   "cell_type": "markdown",
   "metadata": {},
   "source": [
    "Tokens are stored in JSON format in this example"
   ]
  },
  {
   "cell_type": "code",
   "execution_count": null,
   "metadata": {},
   "outputs": [],
   "source": [
    "globus_auth_infile = '<PATH-TO-GLOBUS-AUTH-TOKEN-FILE>'\n",
    "globus_transfer_infile = '<PATH-TO-GLOBUS-TRANSFER-TOKEN-FILE>'\n",
    "with open(globus_auth_infile) as auth_file:  \n",
    "    globus_auth_data = json.load(auth_file)\n",
    "with open(globus_transfer_infile) as transfer_file:\n",
    "    globus_transfer_data = json.load(transfer_file)"
   ]
  },
  {
   "cell_type": "code",
   "execution_count": null,
   "metadata": {},
   "outputs": [],
   "source": [
    "# most specifically, you want these tokens as strings\n",
    "TRANSFER_TOKEN = globus_transfer_data['access_token']\n",
    "TRANSFER_RT = globus_transfer_data['refresh_token']\n",
    "TRANSFER_EXPIRES_AT = globus_transfer_data['expires_at_seconds']\n",
    "\n",
    "AUTH_TOKEN = globus_auth_data['access_token']\n",
    "AUTH_RT = globus_auth_data['refresh_token']\n",
    "AUTH_EXPIRES_AT = globus_auth_data['expires_at_seconds']"
   ]
  },
  {
   "cell_type": "markdown",
   "metadata": {},
   "source": [
    "### Print the Transfer data"
   ]
  },
  {
   "cell_type": "code",
   "execution_count": null,
   "metadata": {},
   "outputs": [],
   "source": [
    "for a in globus_transfer_data:\n",
    "    print (a,':',globus_transfer_data[a])"
   ]
  },
  {
   "cell_type": "markdown",
   "metadata": {},
   "source": [
    "### Instantitate the transfer client using your refresh token"
   ]
  },
  {
   "cell_type": "code",
   "execution_count": null,
   "metadata": {},
   "outputs": [],
   "source": [
    "CLIENT_ID = '<YOUR-CLIENT-ID>'\n",
    "client = NativeAppAuthClient(CLIENT_ID)\n",
    "\n",
    "tc_authorizer = RefreshTokenAuthorizer(TRANSFER_RT, client)\n",
    "tc = TransferClient(authorizer=tc_authorizer)"
   ]
  },
  {
   "cell_type": "markdown",
   "metadata": {},
   "source": [
    "### Search for the NCAR GLADE and NCAR Campaign Store endpoints and get the endpoint IDs"
   ]
  },
  {
   "cell_type": "code",
   "execution_count": null,
   "metadata": {},
   "outputs": [],
   "source": [
    "source_endpoint = tc.endpoint_search('NCAR GLADE')[0]['id']\n",
    "destination_endpoint = tc.endpoint_search('NCAR Campaign Storage')[0]['id']"
   ]
  },
  {
   "cell_type": "markdown",
   "metadata": {},
   "source": [
    "### Create transfer data object containing the data to be transferred"
   ]
  },
  {
   "cell_type": "code",
   "execution_count": null,
   "metadata": {},
   "outputs": [],
   "source": [
    "transfer_data = TransferData(transfer_client=tc,\n",
    "\t\t\t\t\t\t\t source_endpoint=source_endpoint,\n",
    "\t\t\t\t\t\t\t destination_endpoint=destination_endpoint,\n",
    "\t\t\t\t\t\t\t label='NCAR example transfer')"
   ]
  },
  {
   "cell_type": "markdown",
   "metadata": {},
   "source": [
    "### Add files or directories to be transferred.  Note source_path is relative to the source endpoint base path."
   ]
  },
  {
   "cell_type": "code",
   "execution_count": null,
   "metadata": {},
   "outputs": [],
   "source": [
    "source_files = ['file1.txt', 'file2.txt', 'file3.txt']\n",
    "\n",
    "source_path = '/<DIRECTORY-PATH-ON-GLADE>/'\n",
    "dest_path = '/<DIRECTORY-PATH-ON-NCAR-CAMPAIGN-STORAGE>/'\n",
    "\n",
    "for file in source_files:\n",
    "    source_file = \"{0}{1}\".format(source_path, source_files[file])\n",
    "    dest_file = \"{0}{1}\".format(dest_path, source_files[file])\n",
    "    transfer_data.add_item(source_file, dest_file)"
   ]
  },
  {
   "cell_type": "markdown",
   "metadata": {},
   "source": [
    "### Activate both the source and destination endpoints"
   ]
  },
  {
   "cell_type": "code",
   "execution_count": null,
   "metadata": {},
   "outputs": [],
   "source": [
    "tc.endpoint_autoactivate(source_endpoint)\n",
    "tc.endpoint_autoactivate(destination_endpoint)"
   ]
  },
  {
   "cell_type": "markdown",
   "metadata": {},
   "source": [
    "### Submit the transfer and print the task ID"
   ]
  },
  {
   "cell_type": "code",
   "execution_count": null,
   "metadata": {},
   "outputs": [],
   "source": [
    "task_id = tc.submit_transfer(transfer_data)\n",
    "print \"Task ID: {}\".format(task_id['task_id'])"
   ]
  }
 ],
 "metadata": {
  "kernelspec": {
   "display_name": "Python 3",
   "language": "python",
   "name": "python3"
  },
  "language_info": {
   "codemirror_mode": {
    "name": "ipython",
    "version": 3
   },
   "file_extension": ".py",
   "mimetype": "text/x-python",
   "name": "python",
   "nbconvert_exporter": "python",
   "pygments_lexer": "ipython3",
   "version": "3.6.8"
  }
 },
 "nbformat": 4,
 "nbformat_minor": 2
}
